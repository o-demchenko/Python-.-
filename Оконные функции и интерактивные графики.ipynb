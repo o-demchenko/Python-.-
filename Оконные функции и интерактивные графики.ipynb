{
 "cells": [
  {
   "cell_type": "code",
   "execution_count": 24,
   "metadata": {},
   "outputs": [],
   "source": [
    "import pandas as pd\n",
    "%matplotlib inline\n",
    "import matplotlib.pyplot as plt\n",
    "import seaborn as sns\n",
    "\n",
    "import plotly.express as px"
   ]
  },
  {
   "cell_type": "code",
   "execution_count": 25,
   "metadata": {},
   "outputs": [],
   "source": [
    "sns.set(\n",
    "    font_scale =2,\n",
    "    style      =\"whitegrid\",\n",
    "    rc         ={'figure.figsize':(20,7)}\n",
    ")"
   ]
  },
  {
   "cell_type": "code",
   "execution_count": 26,
   "metadata": {},
   "outputs": [],
   "source": [
    "sales_team  = pd.read_csv('/mnt/HC_Volume_18315164/home-jupyter/jupyter-o-demchenko-18/lessons_6/sales_team.csv')\n",
    "order_leads = pd.read_csv('/mnt/HC_Volume_18315164/home-jupyter//jupyter-o-demchenko-18/lessons_6/order_leads.csv')\n",
    "invoices    = pd.read_csv('/mnt/HC_Volume_18315164/home-jupyter//jupyter-o-demchenko-18/lessons_6/invoices.csv')"
   ]
  },
  {
   "cell_type": "code",
   "execution_count": 27,
   "metadata": {},
   "outputs": [
    {
     "data": {
      "text/html": [
       "<div>\n",
       "<style scoped>\n",
       "    .dataframe tbody tr th:only-of-type {\n",
       "        vertical-align: middle;\n",
       "    }\n",
       "\n",
       "    .dataframe tbody tr th {\n",
       "        vertical-align: top;\n",
       "    }\n",
       "\n",
       "    .dataframe thead th {\n",
       "        text-align: right;\n",
       "    }\n",
       "</style>\n",
       "<table border=\"1\" class=\"dataframe\">\n",
       "  <thead>\n",
       "    <tr style=\"text-align: right;\">\n",
       "      <th></th>\n",
       "      <th>Order Id</th>\n",
       "      <th>Company Id</th>\n",
       "      <th>Company Name</th>\n",
       "      <th>Date</th>\n",
       "      <th>Order Value</th>\n",
       "      <th>Converted</th>\n",
       "    </tr>\n",
       "  </thead>\n",
       "  <tbody>\n",
       "    <tr>\n",
       "      <th>0</th>\n",
       "      <td>HZSXLI1IS9RGABZW</td>\n",
       "      <td>D0AUXPP07H6AVSGD</td>\n",
       "      <td>Melancholy Social-Role</td>\n",
       "      <td>2017-10-13</td>\n",
       "      <td>6952</td>\n",
       "      <td>0</td>\n",
       "    </tr>\n",
       "    <tr>\n",
       "      <th>1</th>\n",
       "      <td>582WPS3OW8T6YT0R</td>\n",
       "      <td>D0AUXPP07H6AVSGD</td>\n",
       "      <td>Melancholy Social-Role</td>\n",
       "      <td>2017-09-02</td>\n",
       "      <td>7930</td>\n",
       "      <td>0</td>\n",
       "    </tr>\n",
       "    <tr>\n",
       "      <th>2</th>\n",
       "      <td>KRF65MQZBOYG4Y9T</td>\n",
       "      <td>D0AUXPP07H6AVSGD</td>\n",
       "      <td>Melancholy Social-Role</td>\n",
       "      <td>2016-12-21</td>\n",
       "      <td>5538</td>\n",
       "      <td>1</td>\n",
       "    </tr>\n",
       "    <tr>\n",
       "      <th>3</th>\n",
       "      <td>N3EDZ5V1WGSWW828</td>\n",
       "      <td>D0AUXPP07H6AVSGD</td>\n",
       "      <td>Melancholy Social-Role</td>\n",
       "      <td>2018-06-03</td>\n",
       "      <td>1113</td>\n",
       "      <td>0</td>\n",
       "    </tr>\n",
       "    <tr>\n",
       "      <th>4</th>\n",
       "      <td>QXBC8COXEXGFSPLP</td>\n",
       "      <td>D0AUXPP07H6AVSGD</td>\n",
       "      <td>Melancholy Social-Role</td>\n",
       "      <td>2014-07-26</td>\n",
       "      <td>4596</td>\n",
       "      <td>0</td>\n",
       "    </tr>\n",
       "    <tr>\n",
       "      <th>...</th>\n",
       "      <td>...</td>\n",
       "      <td>...</td>\n",
       "      <td>...</td>\n",
       "      <td>...</td>\n",
       "      <td>...</td>\n",
       "      <td>...</td>\n",
       "    </tr>\n",
       "    <tr>\n",
       "      <th>99995</th>\n",
       "      <td>HKZFX556ZQRZJZWR</td>\n",
       "      <td>APH243SK72T90MPS</td>\n",
       "      <td>Trade-Preparatory Quarterbacks</td>\n",
       "      <td>2017-11-06</td>\n",
       "      <td>7516</td>\n",
       "      <td>0</td>\n",
       "    </tr>\n",
       "    <tr>\n",
       "      <th>99996</th>\n",
       "      <td>962CSDMAJ49E0CRK</td>\n",
       "      <td>APH243SK72T90MPS</td>\n",
       "      <td>Trade-Preparatory Quarterbacks</td>\n",
       "      <td>2018-08-02</td>\n",
       "      <td>442</td>\n",
       "      <td>1</td>\n",
       "    </tr>\n",
       "    <tr>\n",
       "      <th>99997</th>\n",
       "      <td>ZW7RO9TLL6EVVJEC</td>\n",
       "      <td>APH243SK72T90MPS</td>\n",
       "      <td>Trade-Preparatory Quarterbacks</td>\n",
       "      <td>2014-11-02</td>\n",
       "      <td>8544</td>\n",
       "      <td>0</td>\n",
       "    </tr>\n",
       "    <tr>\n",
       "      <th>99998</th>\n",
       "      <td>LNKGIWMZ9RT49IE9</td>\n",
       "      <td>APH243SK72T90MPS</td>\n",
       "      <td>Trade-Preparatory Quarterbacks</td>\n",
       "      <td>2017-04-01</td>\n",
       "      <td>6650</td>\n",
       "      <td>0</td>\n",
       "    </tr>\n",
       "    <tr>\n",
       "      <th>99999</th>\n",
       "      <td>X9Y21H4JWX6OGC2Z</td>\n",
       "      <td>APH243SK72T90MPS</td>\n",
       "      <td>Trade-Preparatory Quarterbacks</td>\n",
       "      <td>2016-07-27</td>\n",
       "      <td>953</td>\n",
       "      <td>0</td>\n",
       "    </tr>\n",
       "  </tbody>\n",
       "</table>\n",
       "<p>100000 rows × 6 columns</p>\n",
       "</div>"
      ],
      "text/plain": [
       "               Order Id        Company Id                    Company Name  \\\n",
       "0      HZSXLI1IS9RGABZW  D0AUXPP07H6AVSGD          Melancholy Social-Role   \n",
       "1      582WPS3OW8T6YT0R  D0AUXPP07H6AVSGD          Melancholy Social-Role   \n",
       "2      KRF65MQZBOYG4Y9T  D0AUXPP07H6AVSGD          Melancholy Social-Role   \n",
       "3      N3EDZ5V1WGSWW828  D0AUXPP07H6AVSGD          Melancholy Social-Role   \n",
       "4      QXBC8COXEXGFSPLP  D0AUXPP07H6AVSGD          Melancholy Social-Role   \n",
       "...                 ...               ...                             ...   \n",
       "99995  HKZFX556ZQRZJZWR  APH243SK72T90MPS  Trade-Preparatory Quarterbacks   \n",
       "99996  962CSDMAJ49E0CRK  APH243SK72T90MPS  Trade-Preparatory Quarterbacks   \n",
       "99997  ZW7RO9TLL6EVVJEC  APH243SK72T90MPS  Trade-Preparatory Quarterbacks   \n",
       "99998  LNKGIWMZ9RT49IE9  APH243SK72T90MPS  Trade-Preparatory Quarterbacks   \n",
       "99999  X9Y21H4JWX6OGC2Z  APH243SK72T90MPS  Trade-Preparatory Quarterbacks   \n",
       "\n",
       "             Date  Order Value  Converted  \n",
       "0      2017-10-13         6952          0  \n",
       "1      2017-09-02         7930          0  \n",
       "2      2016-12-21         5538          1  \n",
       "3      2018-06-03         1113          0  \n",
       "4      2014-07-26         4596          0  \n",
       "...           ...          ...        ...  \n",
       "99995  2017-11-06         7516          0  \n",
       "99996  2018-08-02          442          1  \n",
       "99997  2014-11-02         8544          0  \n",
       "99998  2017-04-01         6650          0  \n",
       "99999  2016-07-27          953          0  \n",
       "\n",
       "[100000 rows x 6 columns]"
      ]
     },
     "execution_count": 27,
     "metadata": {},
     "output_type": "execute_result"
    }
   ],
   "source": [
    "order_leads"
   ]
  },
  {
   "cell_type": "code",
   "execution_count": 28,
   "metadata": {},
   "outputs": [],
   "source": [
    "order_leads['Date'] = pd.to_datetime(order_leads.Date)"
   ]
  },
  {
   "cell_type": "code",
   "execution_count": 29,
   "metadata": {},
   "outputs": [],
   "source": [
    "sales_team = sales_team.rename(columns={'Company Name': 'Company_Name', \n",
    "                                        'Company Id'  : 'Company_Id', \n",
    "                                        'Sales Rep'   : 'Sales_Rep', \n",
    "                                        'Sales_Rep_Id': 'Sales Rep Id'})"
   ]
  },
  {
   "cell_type": "code",
   "execution_count": 30,
   "metadata": {},
   "outputs": [],
   "source": [
    "order_leads = order_leads.rename(columns={'Company Name': 'Company_Name', \n",
    "                                        'Company Id'  : 'Company_Id', \n",
    "                                        'Order Id'   : 'Order_Id', \n",
    "                                        'Order Value': 'Order_Value'})"
   ]
  },
  {
   "cell_type": "code",
   "execution_count": 31,
   "metadata": {},
   "outputs": [],
   "source": [
    "order_leads_with_team_data = order_leads.merge(sales_team, how='left', on=['Company_Name', 'Company_Id'])"
   ]
  },
  {
   "cell_type": "code",
   "execution_count": 32,
   "metadata": {},
   "outputs": [
    {
     "data": {
      "text/html": [
       "<div>\n",
       "<style scoped>\n",
       "    .dataframe tbody tr th:only-of-type {\n",
       "        vertical-align: middle;\n",
       "    }\n",
       "\n",
       "    .dataframe tbody tr th {\n",
       "        vertical-align: top;\n",
       "    }\n",
       "\n",
       "    .dataframe thead th {\n",
       "        text-align: right;\n",
       "    }\n",
       "</style>\n",
       "<table border=\"1\" class=\"dataframe\">\n",
       "  <thead>\n",
       "    <tr style=\"text-align: right;\">\n",
       "      <th></th>\n",
       "      <th>Order_Id</th>\n",
       "      <th>Company_Id</th>\n",
       "      <th>Company_Name</th>\n",
       "      <th>Date</th>\n",
       "      <th>Order_Value</th>\n",
       "      <th>Converted</th>\n",
       "      <th>Sales_Rep</th>\n",
       "      <th>Sales Rep Id</th>\n",
       "    </tr>\n",
       "  </thead>\n",
       "  <tbody>\n",
       "    <tr>\n",
       "      <th>0</th>\n",
       "      <td>HZSXLI1IS9RGABZW</td>\n",
       "      <td>D0AUXPP07H6AVSGD</td>\n",
       "      <td>Melancholy Social-Role</td>\n",
       "      <td>2017-10-13</td>\n",
       "      <td>6952</td>\n",
       "      <td>0</td>\n",
       "      <td>William Taylor</td>\n",
       "      <td>ZTZA0ZLYZR85PTUJ</td>\n",
       "    </tr>\n",
       "    <tr>\n",
       "      <th>1</th>\n",
       "      <td>582WPS3OW8T6YT0R</td>\n",
       "      <td>D0AUXPP07H6AVSGD</td>\n",
       "      <td>Melancholy Social-Role</td>\n",
       "      <td>2017-09-02</td>\n",
       "      <td>7930</td>\n",
       "      <td>0</td>\n",
       "      <td>William Taylor</td>\n",
       "      <td>ZTZA0ZLYZR85PTUJ</td>\n",
       "    </tr>\n",
       "    <tr>\n",
       "      <th>2</th>\n",
       "      <td>KRF65MQZBOYG4Y9T</td>\n",
       "      <td>D0AUXPP07H6AVSGD</td>\n",
       "      <td>Melancholy Social-Role</td>\n",
       "      <td>2016-12-21</td>\n",
       "      <td>5538</td>\n",
       "      <td>1</td>\n",
       "      <td>William Taylor</td>\n",
       "      <td>ZTZA0ZLYZR85PTUJ</td>\n",
       "    </tr>\n",
       "    <tr>\n",
       "      <th>3</th>\n",
       "      <td>N3EDZ5V1WGSWW828</td>\n",
       "      <td>D0AUXPP07H6AVSGD</td>\n",
       "      <td>Melancholy Social-Role</td>\n",
       "      <td>2018-06-03</td>\n",
       "      <td>1113</td>\n",
       "      <td>0</td>\n",
       "      <td>William Taylor</td>\n",
       "      <td>ZTZA0ZLYZR85PTUJ</td>\n",
       "    </tr>\n",
       "    <tr>\n",
       "      <th>4</th>\n",
       "      <td>QXBC8COXEXGFSPLP</td>\n",
       "      <td>D0AUXPP07H6AVSGD</td>\n",
       "      <td>Melancholy Social-Role</td>\n",
       "      <td>2014-07-26</td>\n",
       "      <td>4596</td>\n",
       "      <td>0</td>\n",
       "      <td>William Taylor</td>\n",
       "      <td>ZTZA0ZLYZR85PTUJ</td>\n",
       "    </tr>\n",
       "  </tbody>\n",
       "</table>\n",
       "</div>"
      ],
      "text/plain": [
       "           Order_Id        Company_Id            Company_Name       Date  \\\n",
       "0  HZSXLI1IS9RGABZW  D0AUXPP07H6AVSGD  Melancholy Social-Role 2017-10-13   \n",
       "1  582WPS3OW8T6YT0R  D0AUXPP07H6AVSGD  Melancholy Social-Role 2017-09-02   \n",
       "2  KRF65MQZBOYG4Y9T  D0AUXPP07H6AVSGD  Melancholy Social-Role 2016-12-21   \n",
       "3  N3EDZ5V1WGSWW828  D0AUXPP07H6AVSGD  Melancholy Social-Role 2018-06-03   \n",
       "4  QXBC8COXEXGFSPLP  D0AUXPP07H6AVSGD  Melancholy Social-Role 2014-07-26   \n",
       "\n",
       "   Order_Value  Converted       Sales_Rep      Sales Rep Id  \n",
       "0         6952          0  William Taylor  ZTZA0ZLYZR85PTUJ  \n",
       "1         7930          0  William Taylor  ZTZA0ZLYZR85PTUJ  \n",
       "2         5538          1  William Taylor  ZTZA0ZLYZR85PTUJ  \n",
       "3         1113          0  William Taylor  ZTZA0ZLYZR85PTUJ  \n",
       "4         4596          0  William Taylor  ZTZA0ZLYZR85PTUJ  "
      ]
     },
     "execution_count": 32,
     "metadata": {},
     "output_type": "execute_result"
    }
   ],
   "source": [
    "order_leads_with_team_data.head()"
   ]
  },
  {
   "cell_type": "code",
   "execution_count": 33,
   "metadata": {},
   "outputs": [
    {
     "data": {
      "text/plain": [
       "Timestamp('2018-12-31 00:00:00')"
      ]
     },
     "execution_count": 33,
     "metadata": {},
     "output_type": "execute_result"
    }
   ],
   "source": [
    "order_leads.Date.max()"
   ]
  },
  {
   "cell_type": "code",
   "execution_count": 34,
   "metadata": {},
   "outputs": [],
   "source": [
    "# график % реализованных сделок по дням (график CR подням). CR - conversion rate (коэффициент конверсии)"
   ]
  },
  {
   "cell_type": "code",
   "execution_count": 35,
   "metadata": {},
   "outputs": [],
   "source": [
    "cr_by_day_rolling = order_leads.groupby(['Date']) \\\n",
    "           .agg({'Converted': 'mean'}) \\\n",
    "           .rename(columns={'Converted': 'CR'}) \\\n",
    "           .sort_values('Date') \\\n",
    "           .rolling(30).mean() #скользящее среднее"
   ]
  },
  {
   "cell_type": "code",
   "execution_count": 36,
   "metadata": {},
   "outputs": [],
   "source": [
    "#выполним апгрейд графика. Переместим в самый верх\n"
   ]
  },
  {
   "cell_type": "code",
   "execution_count": 37,
   "metadata": {},
   "outputs": [
    {
     "data": {
      "image/png": "[encoded data removed]",
      "text/plain": [
       "<Figure size 1440x504 with 1 Axes>"
      ]
     },
     "metadata": {},
     "output_type": "display_data"
    }
   ],
   "source": [
    "ax = cr_by_day_rolling.plot()\n",
    "ax.set_title('conversion rate by day\\n') # название заголовка\n",
    "ax.set_ylabel('conversion rate\\n')       # название по оси y\n",
    "ax.set_xlabel('\\nDate')                  # название по оси x\n",
    "ax.set_yticklabels(['{:.0%}'.format(n) for n in ax.get_yticks()]) # {:.0%} .0 - кол-во знаков после точки % - вывод в %\n",
    "sns.despine()                            # уберет все лишее с графика"
   ]
  },
  {
   "cell_type": "markdown",
   "metadata": {},
   "source": [
    "можно забить в функцию и применять дальше по необходимости"
   ]
  },
  {
   "cell_type": "code",
   "execution_count": 38,
   "metadata": {},
   "outputs": [],
   "source": [
    "def get_plot(df, x_label='', y_label='', title=''):\n",
    "    ax = df.plot()\n",
    "\n",
    "    ax.set_title(title)\n",
    "    ax.set_ylabel(y_label)\n",
    "    ax.set_xlabel(x_label)\n",
    "    ax.set_yticklabels(['{:.0%}'.format(n) for n in ax.get_yticks()])\n",
    "    sns.despine()"
   ]
  },
  {
   "cell_type": "code",
   "execution_count": 39,
   "metadata": {},
   "outputs": [],
   "source": [
    "# попробуем тоже саммое через библиотеку plotly"
   ]
  },
  {
   "cell_type": "code",
   "execution_count": 40,
   "metadata": {},
   "outputs": [],
   "source": [
    "cr_by_day_rolling = cr_by_day_rolling.reset_index().dropna()"
   ]
  },
  {
   "cell_type": "code",
   "execution_count": 41,
   "metadata": {},
   "outputs": [
    {
     "data": {
      "text/html": [
       "<div>\n",
       "<style scoped>\n",
       "    .dataframe tbody tr th:only-of-type {\n",
       "        vertical-align: middle;\n",
       "    }\n",
       "\n",
       "    .dataframe tbody tr th {\n",
       "        vertical-align: top;\n",
       "    }\n",
       "\n",
       "    .dataframe thead th {\n",
       "        text-align: right;\n",
       "    }\n",
       "</style>\n",
       "<table border=\"1\" class=\"dataframe\">\n",
       "  <thead>\n",
       "    <tr style=\"text-align: right;\">\n",
       "      <th></th>\n",
       "      <th>Date</th>\n",
       "      <th>CR</th>\n",
       "    </tr>\n",
       "  </thead>\n",
       "  <tbody>\n",
       "    <tr>\n",
       "      <th>29</th>\n",
       "      <td>2014-01-30</td>\n",
       "      <td>0.178512</td>\n",
       "    </tr>\n",
       "    <tr>\n",
       "      <th>30</th>\n",
       "      <td>2014-01-31</td>\n",
       "      <td>0.177663</td>\n",
       "    </tr>\n",
       "    <tr>\n",
       "      <th>31</th>\n",
       "      <td>2014-02-01</td>\n",
       "      <td>0.177996</td>\n",
       "    </tr>\n",
       "    <tr>\n",
       "      <th>32</th>\n",
       "      <td>2014-02-02</td>\n",
       "      <td>0.180229</td>\n",
       "    </tr>\n",
       "    <tr>\n",
       "      <th>33</th>\n",
       "      <td>2014-02-03</td>\n",
       "      <td>0.180944</td>\n",
       "    </tr>\n",
       "    <tr>\n",
       "      <th>...</th>\n",
       "      <td>...</td>\n",
       "      <td>...</td>\n",
       "    </tr>\n",
       "    <tr>\n",
       "      <th>1821</th>\n",
       "      <td>2018-12-27</td>\n",
       "      <td>0.135736</td>\n",
       "    </tr>\n",
       "    <tr>\n",
       "      <th>1822</th>\n",
       "      <td>2018-12-28</td>\n",
       "      <td>0.136614</td>\n",
       "    </tr>\n",
       "    <tr>\n",
       "      <th>1823</th>\n",
       "      <td>2018-12-29</td>\n",
       "      <td>0.136338</td>\n",
       "    </tr>\n",
       "    <tr>\n",
       "      <th>1824</th>\n",
       "      <td>2018-12-30</td>\n",
       "      <td>0.138810</td>\n",
       "    </tr>\n",
       "    <tr>\n",
       "      <th>1825</th>\n",
       "      <td>2018-12-31</td>\n",
       "      <td>0.136989</td>\n",
       "    </tr>\n",
       "  </tbody>\n",
       "</table>\n",
       "<p>1797 rows × 2 columns</p>\n",
       "</div>"
      ],
      "text/plain": [
       "           Date        CR\n",
       "29   2014-01-30  0.178512\n",
       "30   2014-01-31  0.177663\n",
       "31   2014-02-01  0.177996\n",
       "32   2014-02-02  0.180229\n",
       "33   2014-02-03  0.180944\n",
       "...         ...       ...\n",
       "1821 2018-12-27  0.135736\n",
       "1822 2018-12-28  0.136614\n",
       "1823 2018-12-29  0.136338\n",
       "1824 2018-12-30  0.138810\n",
       "1825 2018-12-31  0.136989\n",
       "\n",
       "[1797 rows x 2 columns]"
      ]
     },
     "execution_count": 41,
     "metadata": {},
     "output_type": "execute_result"
    }
   ],
   "source": [
    "cr_by_day_rolling"
   ]
  },
  {
   "cell_type": "code",
   "execution_count": null,
   "metadata": {},
   "outputs": [],
   "source": []
  },
  {
   "cell_type": "code",
   "execution_count": null,
   "metadata": {},
   "outputs": [],
   "source": []
  }
 ],
 "metadata": {
  "kernelspec": {
   "display_name": "Python 3",
   "language": "python",
   "name": "python3"
  },
  "language_info": {
   "codemirror_mode": {
    "name": "ipython",
    "version": 3
   },
   "file_extension": ".py",
   "mimetype": "text/x-python",
   "name": "python",
   "nbconvert_exporter": "python",
   "pygments_lexer": "ipython3",
   "version": "3.7.3"
  }
 },
 "nbformat": 4,
 "nbformat_minor": 4
}
